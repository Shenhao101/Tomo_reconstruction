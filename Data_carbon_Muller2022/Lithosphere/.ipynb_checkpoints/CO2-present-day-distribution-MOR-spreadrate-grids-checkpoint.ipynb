version https://git-lfs.github.com/spec/v1
oid sha256:0d96590ac6967487f2c55d00d905382fb27bd471303af46e084799d95a50c6d4
size 1793896
